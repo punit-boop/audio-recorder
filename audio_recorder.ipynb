{
 "cells": [
  {
   "cell_type": "code",
   "execution_count": 1,
   "id": "ad832ea2-5a27-4d3a-85ab-287864cfe169",
   "metadata": {},
   "outputs": [],
   "source": [
    "#importing libraries\n",
    "\n",
    "import sounddevice\n",
    "from scipy.io.wavfile import write"
   ]
  },
  {
   "cell_type": "code",
   "execution_count": 2,
   "id": "05517f69-a4b5-4b17-8cd2-e3756ccd8790",
   "metadata": {},
   "outputs": [],
   "source": [
    "# recooding function\n",
    "\n",
    "\n",
    "def my_voice_recorder(seconds):\n",
    "    print(\"Recording Started......\")\n",
    "    record= sounddevice.rec((seconds*44100),samplerate=44100,channels=2)\n",
    "    sounddevice.wait()\n",
    "    print(\"Recording Finished.\")\n",
    "    return record\n",
    "\n",
    "\n"
   ]
  },
  {
   "cell_type": "code",
   "execution_count": 3,
   "id": "8e732cb9-2fd7-4922-adac-bc1a9a68f184",
   "metadata": {},
   "outputs": [
    {
     "name": "stdin",
     "output_type": "stream",
     "text": [
      "How long you want to record:  5\n"
     ]
    },
    {
     "name": "stdout",
     "output_type": "stream",
     "text": [
      "Recording Started......\n",
      "Recording Finished.\n"
     ]
    }
   ],
   "source": [
    "len_time = int(input(\"How long you want to record: \"))\n",
    "recording= my_voice_recorder(len_time)\n"
   ]
  },
  {
   "cell_type": "markdown",
   "id": "0ad634f3-ff28-4334-9c5f-9503cdd14a7a",
   "metadata": {},
   "source": [
    "Saving:\n",
    "\n"
   ]
  },
  {
   "cell_type": "code",
   "execution_count": 4,
   "id": "cde50238-c508-4a7a-82d1-1fd92c923e23",
   "metadata": {},
   "outputs": [
    {
     "name": "stdin",
     "output_type": "stream",
     "text": [
      "Name your recording:  testin\n"
     ]
    }
   ],
   "source": [
    "name_file= input(\"Name your recording: \")\n",
    "write(name_file+\".wav\",44100,recording)"
   ]
  },
  {
   "cell_type": "code",
   "execution_count": 5,
   "id": "3dc4a214-2faf-4a70-a035-6278ed92a800",
   "metadata": {},
   "outputs": [
    {
     "name": "stdout",
     "output_type": "stream",
     "text": [
      "Recording Saved as testin\n"
     ]
    }
   ],
   "source": [
    "print(\"Recording Saved as \"+name_file)"
   ]
  }
 ],
 "metadata": {
  "kernelspec": {
   "display_name": "Python 3 (ipykernel)",
   "language": "python",
   "name": "python3"
  },
  "language_info": {
   "codemirror_mode": {
    "name": "ipython",
    "version": 3
   },
   "file_extension": ".py",
   "mimetype": "text/x-python",
   "name": "python",
   "nbconvert_exporter": "python",
   "pygments_lexer": "ipython3",
   "version": "3.13.5"
  }
 },
 "nbformat": 4,
 "nbformat_minor": 5
}
